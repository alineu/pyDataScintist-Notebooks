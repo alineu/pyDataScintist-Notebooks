{
 "cells": [
  {
   "cell_type": "markdown",
   "metadata": {},
   "source": [
    "This project demonstrates the application of **decision tree algorithms** to classify mushrooms into poisonous and edible according to thier characteristics. The dataset is obtained from the [machine learning repository of University of California Irvine (UCI)](https://archive.ics.uci.edu/ml/datasets/mushroom)\n",
    "    \n",
    "Data in csv format (zipped) is available in this [link](https://github.com/alineu/pyDataScintist-Notebooks/tree/main/data/mushrooms.csv.zip). **You can find the full project analysis at [Edible/Poisonous Mushrooms Classification Using Decision Trees](https://pydatascientist.com/tutorials/mushroom_classification_using_decision_trees/project.html)**"
   ]
  },
  {
   "cell_type": "markdown",
   "metadata": {},
   "source": [
    "### Loading the libraries"
   ]
  },
  {
   "cell_type": "code",
   "execution_count": null,
   "metadata": {},
   "outputs": [],
   "source": [
    "import numpy as np\n",
    "import pandas as pd\n",
    "import warnings\n",
    "warnings.filterwarnings('ignore','Warning')\n",
    "pd.set_option('display.float_format', lambda x: '%.5f' % x)\n",
    "import matplotlib.pyplot as plt\n",
    "%matplotlib inline\n",
    "import seaborn as sns"
   ]
  },
  {
   "cell_type": "markdown",
   "metadata": {},
   "source": [
    "### Data exploration"
   ]
  },
  {
   "cell_type": "code",
   "execution_count": null,
   "metadata": {},
   "outputs": [],
   "source": [
    "mushroom_df = pd.read_csv('mushrooms.csv')"
   ]
  },
  {
   "cell_type": "code",
   "execution_count": null,
   "metadata": {},
   "outputs": [],
   "source": [
    "mushroom_df.iloc[:5,:13]"
   ]
  },
  {
   "cell_type": "code",
   "execution_count": null,
   "metadata": {},
   "outputs": [],
   "source": [
    "mushroom_df.iloc[:5,13:]"
   ]
  },
  {
   "cell_type": "code",
   "execution_count": null,
   "metadata": {},
   "outputs": [],
   "source": [
    "print(mushroom_df.info());"
   ]
  },
  {
   "cell_type": "code",
   "execution_count": null,
   "metadata": {},
   "outputs": [],
   "source": [
    "mushroom_df.dtypes"
   ]
  },
  {
   "cell_type": "code",
   "execution_count": null,
   "metadata": {},
   "outputs": [],
   "source": [
    "from pandas.api.types import CategoricalDtype\n",
    "mushroom_df = mushroom_df.astype(\"category\")"
   ]
  },
  {
   "cell_type": "code",
   "execution_count": null,
   "metadata": {},
   "outputs": [],
   "source": [
    "mushroom_df.dtypes"
   ]
  },
  {
   "cell_type": "code",
   "execution_count": null,
   "metadata": {},
   "outputs": [],
   "source": [
    "features = list(mushroom_df.columns[mushroom_df.columns!='target'])\n",
    "print(features)"
   ]
  },
  {
   "cell_type": "code",
   "execution_count": null,
   "metadata": {},
   "outputs": [],
   "source": [
    "X = mushroom_df[features].values #features\n",
    "y = mushroom_df['target'].values #target class"
   ]
  },
  {
   "cell_type": "markdown",
   "metadata": {},
   "source": [
    "### Encoding the categorical features"
   ]
  },
  {
   "cell_type": "code",
   "execution_count": null,
   "metadata": {},
   "outputs": [],
   "source": [
    "from sklearn.preprocessing import OneHotEncoder, LabelEncoder\n",
    "from sklearn.model_selection import train_test_split\n",
    "\n",
    "# encode the input data\n",
    "def prepare_inputs(X_train, X_test):\n",
    "    \n",
    "    # Set \"handle_unknown\" argument to \"ignore\". This is useful in case the model encounters a \n",
    "    # new feature level. Foe example, you train a model with unique colors \"blue\", \"purple\", and \"yellow\" \n",
    "    # and there is a color \"red\" appearing in the test data.\n",
    "    oh_encoder = OneHotEncoder(handle_unknown=\"ignore\") \n",
    "    oh_encoder.fit(X_train) \n",
    "    X_train_enc = oh_encoder.transform(X_train)\n",
    "    X_test_enc = oh_encoder.transform(X_test)\n",
    "    return X_train_enc, X_test_enc"
   ]
  },
  {
   "cell_type": "code",
   "execution_count": null,
   "metadata": {},
   "outputs": [],
   "source": [
    "# encode the target\n",
    "def prepare_targets(y_train, y_test):\n",
    "    # LableEncoder is pretty much the same as One-Hot encoder but is used for the target variable (labels)\n",
    "    le = LabelEncoder()\n",
    "    le.fit(y_train)\n",
    "    y_train_enc = le.transform(y_train)\n",
    "    y_test_enc = le.transform(y_test)\n",
    "    return y_train_enc, y_test_enc"
   ]
  },
  {
   "cell_type": "markdown",
   "metadata": {},
   "source": [
    "#### Splitting the dataset to training (80%) and test data (20%):"
   ]
  },
  {
   "cell_type": "code",
   "execution_count": null,
   "metadata": {},
   "outputs": [],
   "source": [
    "X_train, X_test, y_train, y_test = train_test_split(X, y, test_size=0.3, random_state=1)"
   ]
  },
  {
   "cell_type": "code",
   "execution_count": null,
   "metadata": {},
   "outputs": [],
   "source": [
    "X_train_enc, X_test_enc = prepare_inputs(X_train, X_test)\n",
    "y_train_enc, y_test_enc = prepare_targets(y_train, y_test)"
   ]
  },
  {
   "cell_type": "code",
   "execution_count": null,
   "metadata": {},
   "outputs": [],
   "source": [
    "oh_encoder_all = OneHotEncoder() \n",
    "oh_encoder_all.fit(X) \n",
    "encoded_features = oh_encoder_all.get_feature_names(features)\n",
    "print(encoded_features)"
   ]
  },
  {
   "cell_type": "code",
   "execution_count": null,
   "metadata": {},
   "outputs": [],
   "source": [
    "print(f'The dataset has {X.shape[1]} features and {len(encoded_features)} One-Hot encoded features')"
   ]
  },
  {
   "cell_type": "markdown",
   "metadata": {},
   "source": [
    "### Baseline classifier"
   ]
  },
  {
   "cell_type": "code",
   "execution_count": null,
   "metadata": {},
   "outputs": [],
   "source": [
    "from sklearn.linear_model import LogisticRegression\n",
    "\n",
    "clf_logreg = LogisticRegression(solver='lbfgs')\n",
    "clf_logreg.fit(X_train_enc, y_train_enc)\n",
    "y_pred = clf_logreg.predict(X_test_enc)"
   ]
  },
  {
   "cell_type": "code",
   "execution_count": null,
   "metadata": {},
   "outputs": [],
   "source": [
    "from sklearn.metrics import accuracy_score, classification_report\n",
    "print(classification_report(y_test_enc, y_pred, digits=3))"
   ]
  },
  {
   "cell_type": "code",
   "execution_count": null,
   "metadata": {},
   "outputs": [],
   "source": [
    "accuracy = accuracy_score(y_test_enc, y_pred)\n",
    "print('Accuracy: %.2f' % (accuracy*100))"
   ]
  },
  {
   "cell_type": "markdown",
   "metadata": {},
   "source": [
    "#### Splitting the dataset to training (10%) and test data (90%)!"
   ]
  },
  {
   "cell_type": "code",
   "execution_count": null,
   "metadata": {},
   "outputs": [],
   "source": [
    "# We are going to use indices later!\n",
    "indices = np.arange(len(mushroom_df))\n",
    "X_train, X_test, y_train, y_test, tr_ids, test_ids = train_test_split(X, y, indices, test_size=0.9, random_state=10)"
   ]
  },
  {
   "cell_type": "code",
   "execution_count": null,
   "metadata": {},
   "outputs": [],
   "source": [
    "X_train_enc, X_test_enc = prepare_inputs(X_train, X_test)\n",
    "y_train_enc, y_test_enc = prepare_targets(y_train, y_test)\n",
    "clf_logreg = LogisticRegression(solver='lbfgs')\n",
    "clf_logreg.fit(X_train_enc, y_train_enc)\n",
    "y_pred = clf_logreg.predict(X_test_enc)\n",
    "print(classification_report(y_test_enc, y_pred, digits=3))"
   ]
  },
  {
   "cell_type": "code",
   "execution_count": null,
   "metadata": {},
   "outputs": [],
   "source": [
    "from sklearn.metrics import confusion_matrix, ConfusionMatrixDisplay\n",
    "cm = confusion_matrix(y_test_enc, y_pred)\n",
    "cm"
   ]
  },
  {
   "cell_type": "code",
   "execution_count": null,
   "metadata": {},
   "outputs": [],
   "source": [
    "fig, ax = plt.subplots(1, 1, dpi=120)\n",
    "cm_plot = ConfusionMatrixDisplay(confusion_matrix=cm, display_labels=['edible', 'poisonous'])\n",
    "cm_plot.plot(ax=ax);"
   ]
  },
  {
   "cell_type": "code",
   "execution_count": null,
   "metadata": {},
   "outputs": [],
   "source": [
    "from sklearn.tree import DecisionTreeClassifier, export_graphviz\n",
    "import graphviz\n",
    "\n",
    "# Create Decision Tree classifer object\n",
    "clf_gini = DecisionTreeClassifier(criterion=\"gini\", random_state=10, max_depth=5, max_leaf_nodes=10)\n",
    "clf_entropy = DecisionTreeClassifier(criterion=\"entropy\", random_state=10, max_depth=5, max_leaf_nodes=10)\n",
    "\n",
    "# Train Decision Tree Classifer\n",
    "clf_gini = clf_gini.fit(X_train_enc,y_train_enc)\n",
    "clf_entropy = clf_entropy.fit(X_train_enc,y_train_enc)\n",
    "\n",
    "# Predict the response for test dataset\n",
    "y_pred_gini = clf_gini.predict(X_test_enc)\n",
    "y_pred_entropy = clf_entropy.predict(X_test_enc)"
   ]
  },
  {
   "cell_type": "code",
   "execution_count": null,
   "metadata": {},
   "outputs": [],
   "source": [
    "print(classification_report(y_test_enc, y_pred_gini, digits=3))"
   ]
  },
  {
   "cell_type": "code",
   "execution_count": null,
   "metadata": {
    "scrolled": true
   },
   "outputs": [],
   "source": [
    "print(classification_report(y_test_enc, y_pred_entropy, digits=3))"
   ]
  },
  {
   "cell_type": "code",
   "execution_count": null,
   "metadata": {
    "scrolled": false
   },
   "outputs": [],
   "source": [
    "fig, ax = plt.subplots(1, 1, dpi=120)\n",
    "cm = confusion_matrix(y_test_enc, y_pred_gini)\n",
    "cm_plot = ConfusionMatrixDisplay(confusion_matrix=cm, display_labels=['edible', 'poisonous'])\n",
    "cm_plot.plot(ax=ax);"
   ]
  },
  {
   "cell_type": "code",
   "execution_count": null,
   "metadata": {},
   "outputs": [],
   "source": [
    "fig, ax = plt.subplots(1, 1, dpi=120)\n",
    "cm = confusion_matrix(y_test_enc, y_pred_entropy)\n",
    "cm_plot = ConfusionMatrixDisplay(confusion_matrix=cm, display_labels=['edible', 'poisonous'])\n",
    "cm_plot.plot(ax=ax);"
   ]
  },
  {
   "cell_type": "markdown",
   "metadata": {},
   "source": [
    "### Visualizing the tree"
   ]
  },
  {
   "cell_type": "code",
   "execution_count": null,
   "metadata": {},
   "outputs": [],
   "source": [
    "from sklearn.tree import export_graphviz \n",
    "from io import StringIO\n",
    "from IPython.display import Image \n",
    "from pydot import graph_from_dot_data\n",
    "import pydotplus\n",
    "dot_data = StringIO()\n",
    "\n",
    "# Training feature names\n",
    "oh_encoder_tr = OneHotEncoder(handle_unknown=\"ignore\") \n",
    "oh_encoder_tr.fit(X_train)\n",
    "encoded_tr_features = oh_encoder_tr.get_feature_names(features)\n",
    "\n",
    "# Export the tree\n",
    "export_graphviz(clf_entropy, out_file=dot_data,  \n",
    "                filled=True, rounded=True,\n",
    "                special_characters=False,\n",
    "                feature_names = encoded_tr_features,\n",
    "                class_names=['edible', 'poisonous'])\n",
    "graph = pydotplus.graph_from_dot_data(dot_data.getvalue())  \n",
    "Image(graph.create_png(), width=800, height=400)"
   ]
  },
  {
   "cell_type": "code",
   "execution_count": null,
   "metadata": {},
   "outputs": [],
   "source": [
    "from sklearn.tree import export_text \n",
    "tree_text = export_text(clf_entropy, feature_names = list(encoded_tr_features))\n",
    "print(tree_text)"
   ]
  },
  {
   "cell_type": "markdown",
   "metadata": {},
   "source": [
    "### Model diagnosis"
   ]
  },
  {
   "cell_type": "code",
   "execution_count": null,
   "metadata": {},
   "outputs": [],
   "source": [
    "oh_encoder = OneHotEncoder() \n",
    "oh_encoder.fit(X_test) \n",
    "encoded_test_features = oh_encoder.get_feature_names(features)\n",
    "len(encoded_test_features), len(encoded_tr_features)"
   ]
  },
  {
   "cell_type": "markdown",
   "metadata": {},
   "source": [
    "#### Unseen instances"
   ]
  },
  {
   "cell_type": "code",
   "execution_count": null,
   "metadata": {},
   "outputs": [],
   "source": [
    "list(set(encoded_test_features) - set(list(encoded_tr_features)))"
   ]
  },
  {
   "cell_type": "code",
   "execution_count": null,
   "metadata": {},
   "outputs": [],
   "source": [
    "unseen_data = mushroom_df[\n",
    "    (mushroom_df['cap-shape']=='conical') | (mushroom_df['cap-surface']=='grooves') | \n",
    "    (mushroom_df['veil-color']=='yellow') | (mushroom_df['stalk-color-above-ring']=='yellow')\n",
    "]\n",
    "unseen_data"
   ]
  },
  {
   "cell_type": "code",
   "execution_count": null,
   "metadata": {},
   "outputs": [],
   "source": [
    "X_test_unseen = unseen_data[features].values\n",
    "__, X_test_unseen_enc = prepare_inputs(X_train, X_test_unseen)\n",
    "y_pred_unseen = clf_entropy.predict(X_test_unseen_enc)\n",
    "y_pred_unseen"
   ]
  },
  {
   "cell_type": "code",
   "execution_count": null,
   "metadata": {},
   "outputs": [],
   "source": [
    "false_predictions = np.where(y_test_enc!=y_pred_entropy)\n",
    "false_predictions"
   ]
  },
  {
   "cell_type": "code",
   "execution_count": null,
   "metadata": {},
   "outputs": [],
   "source": [
    "np.sort(test_ids[false_predictions])"
   ]
  },
  {
   "cell_type": "markdown",
   "metadata": {},
   "source": [
    "#### Misclassified instances"
   ]
  },
  {
   "cell_type": "code",
   "execution_count": null,
   "metadata": {},
   "outputs": [],
   "source": [
    "mushroom_df.iloc[np.sort(test_ids[false_predictions]), :12]"
   ]
  },
  {
   "cell_type": "code",
   "execution_count": null,
   "metadata": {},
   "outputs": [],
   "source": [
    "mushroom_df[\n",
    "    (mushroom_df['cap-color']=='white') & (mushroom_df['bruises']=='bruises') \n",
    "    & (mushroom_df['odor']=='none') & (mushroom_df['gill-spacing']=='crowded')\n",
    "]"
   ]
  },
  {
   "cell_type": "code",
   "execution_count": null,
   "metadata": {},
   "outputs": [],
   "source": [
    "mushroom_df_tr = mushroom_df.iloc[np.sort(tr_ids), :]"
   ]
  },
  {
   "cell_type": "code",
   "execution_count": null,
   "metadata": {},
   "outputs": [],
   "source": [
    "mushroom_df_tr[\n",
    "    (mushroom_df['cap-color']=='white')\n",
    "  & (mushroom_df['bruises']=='bruises')\n",
    "  & (mushroom_df['odor']=='none')\n",
    "  & (mushroom_df['gill-spacing']=='crowded')]"
   ]
  },
  {
   "cell_type": "markdown",
   "metadata": {},
   "source": [
    "### Cross-validation"
   ]
  },
  {
   "cell_type": "code",
   "execution_count": null,
   "metadata": {},
   "outputs": [],
   "source": [
    "num_val_tests = 10\n",
    "best_tree_model = clf_entropy\n",
    "best_tree_score = best_tree_model.score(X_test_enc, y_test_enc)\n",
    "best_logreg_model = clf_logreg\n",
    "best_logreg_score = best_logreg_model.score(X_test_enc, y_test_enc)\n",
    "for i in range(num_val_tests):\n",
    "    seed = np.random.randint(1000)\n",
    "    # train/test split\n",
    "    X_train, X_test, y_train, y_test, tr_ids, test_ids = train_test_split(\n",
    "        X, y, indices, test_size=0.9, random_state=seed\n",
    "    )\n",
    "    # Instantiate the DecisionTreeClassifier and the \n",
    "    clf_tree_tmp = DecisionTreeClassifier(\n",
    "        criterion=\"entropy\", random_state=10, max_depth=5, max_leaf_nodes=10\n",
    "    )\n",
    "    clf_logreg_tmp = LogisticRegression(solver='lbfgs')\n",
    "    # Encode train/test\n",
    "    X_train_enc, X_test_enc = prepare_inputs(X_train, X_test)\n",
    "    y_train_enc, y_test_enc = prepare_targets(y_train, y_test)\n",
    "    # fit\n",
    "    clf_tree_tmp = clf_tree_tmp.fit(X_train_enc,y_train_enc)\n",
    "    clf_logreg_tmp = clf_logreg_tmp.fit(X_train_enc,y_train_enc)\n",
    "    # evaluate\n",
    "    tree_score = clf_tree_tmp.score(X_test_enc, y_test_enc)\n",
    "    logreg_score = clf_logreg_tmp.score(X_test_enc, y_test_enc)\n",
    "    # compare with the best tree model so far\n",
    "    if tree_score > best_tree_score:\n",
    "        best_tree_score = tree_score\n",
    "        best_tree_model = clf_tree_tmp\n",
    "        X_enc_best_tree = X_test_enc\n",
    "        y_enc_best_tree = y_test_enc\n",
    "        seed_best_tree = seed\n",
    "    # repeat for the logistic regression model\n",
    "    if logreg_score > best_logreg_score:\n",
    "        best_logreg_score = logreg_score\n",
    "        best_logreg_model = clf_logreg_tmp\n",
    "        X_enc_best_logreg = X_test_enc\n",
    "        y_enc_best_logreg = y_test_enc\n",
    "        seed_best_logreg = seed"
   ]
  },
  {
   "cell_type": "code",
   "execution_count": null,
   "metadata": {},
   "outputs": [],
   "source": [
    "print(f\"best decision tree model reaches the accuracy {np.round(best_tree_score*100, 3)}%\")\n",
    "print(f\"best logistic regression model reaches the accuracy {np.round(best_logreg_score*100, 3)}%\")"
   ]
  },
  {
   "cell_type": "code",
   "execution_count": null,
   "metadata": {
    "scrolled": true
   },
   "outputs": [],
   "source": [
    "y_pred_tree = best_tree_model.predict(X_enc_best_tree)\n",
    "y_pred_logreg = best_logreg_model.predict(X_enc_best_logreg)"
   ]
  },
  {
   "cell_type": "code",
   "execution_count": null,
   "metadata": {},
   "outputs": [],
   "source": [
    "print(classification_report(y_enc_best_tree, y_pred_tree, digits=3))"
   ]
  },
  {
   "cell_type": "code",
   "execution_count": null,
   "metadata": {},
   "outputs": [],
   "source": [
    "fig, ax = plt.subplots(1, 1, dpi=120)\n",
    "cm = confusion_matrix(y_enc_best_tree, y_pred_tree)\n",
    "cm_plot = ConfusionMatrixDisplay(confusion_matrix=cm, display_labels=['edible', 'poisonous'])\n",
    "ax.set_title('Decision tree consfusion matrix')\n",
    "cm_plot.plot(ax=ax);"
   ]
  },
  {
   "cell_type": "code",
   "execution_count": null,
   "metadata": {},
   "outputs": [],
   "source": [
    "print(classification_report(y_enc_best_logreg, y_pred_logreg, digits=3))"
   ]
  },
  {
   "cell_type": "code",
   "execution_count": null,
   "metadata": {},
   "outputs": [],
   "source": [
    "fig, ax = plt.subplots(1, 1, dpi=120)\n",
    "cm = confusion_matrix(y_enc_best_logreg, y_pred_logreg)\n",
    "cm_plot = ConfusionMatrixDisplay(confusion_matrix=cm, display_labels=['edible', 'poisonous'])\n",
    "ax.set_title('Logistic regression consfusion matrix')\n",
    "cm_plot.plot(ax=ax);"
   ]
  },
  {
   "cell_type": "markdown",
   "metadata": {},
   "source": [
    "### Visualizing the best tree"
   ]
  },
  {
   "cell_type": "code",
   "execution_count": null,
   "metadata": {},
   "outputs": [],
   "source": [
    "dot_data = StringIO()\n",
    "\n",
    "# Training feature names\n",
    "oh_encoder_tr = OneHotEncoder(handle_unknown=\"ignore\") \n",
    "X_train, X_test, y_train, y_test, tr_ids, test_ids = train_test_split(\n",
    "    X, y, indices, test_size=0.9, random_state=seed_best_tree\n",
    ")\n",
    "oh_encoder_tr.fit(X_train)\n",
    "encoded_tr_features = oh_encoder_tr.get_feature_names(features)\n",
    "\n",
    "# Export the tree\n",
    "export_graphviz(best_tree_model, out_file=dot_data,  \n",
    "                filled=True, rounded=True,\n",
    "                special_characters=False,\n",
    "                feature_names = encoded_tr_features,\n",
    "                class_names=['edible', 'poisonous'])\n",
    "graph = pydotplus.graph_from_dot_data(dot_data.getvalue())  \n",
    "Image(graph.create_png(), width=800, height=400)"
   ]
  }
 ],
 "metadata": {
  "kernelspec": {
   "display_name": "Python 3",
   "language": "python",
   "name": "python3"
  },
  "language_info": {
   "codemirror_mode": {
    "name": "ipython",
    "version": 3
   },
   "file_extension": ".py",
   "mimetype": "text/x-python",
   "name": "python",
   "nbconvert_exporter": "python",
   "pygments_lexer": "ipython3",
   "version": "3.6.10"
  }
 },
 "nbformat": 4,
 "nbformat_minor": 4
}
